{
 "cells": [
  {
   "cell_type": "markdown",
   "metadata": {},
   "source": [
    "## 15.066 Homework 4 Solution Code\n",
    "Ryan de Freitas Bart & Samuel Newman<br>\n",
    "August 1 2023"
   ]
  },
  {
   "cell_type": "markdown",
   "metadata": {},
   "source": [
    "## Load Packages"
   ]
  },
  {
   "cell_type": "code",
   "execution_count": 1,
   "metadata": {
    "scrolled": false
   },
   "outputs": [
    {
     "name": "stdout",
     "output_type": "stream",
     "text": [
      "Variable   Type       Data/Info\n",
      "-------------------------------\n",
      "CE         ndarray    7: 7 elems, type `float64`, 56 bytes\n",
      "CEU        ndarray    9x7: 63 elems, type `float64`, 504 bytes\n",
      "OEMD       ndarray    9x7: 63 elems, type `float64`, 504 bytes\n",
      "PSCU       ndarray    9x7: 63 elems, type `float64`, 504 bytes\n",
      "SCMT       ndarray    9x7: 63 elems, type `float64`, 504 bytes\n",
      "UPC        ndarray    9: 9 elems, type `float64`, 72 bytes\n",
      "np         module     <module 'numpy' from '/Us<...>kages/numpy/__init__.py'>\n"
     ]
    }
   ],
   "source": [
    "from HW4_data import *\n",
    "%whos"
   ]
  },
  {
   "cell_type": "code",
   "execution_count": 2,
   "metadata": {},
   "outputs": [],
   "source": [
    "# Total budget allocated for supply chain\n",
    "TotalBudget = 3e9; # 3 billion\n",
    "#TotalBudget = 3.3e9; # 10% increase in budget\n",
    "\n",
    "# Total TV sets order by the customers from all ODMs by TV size\n",
    "TotalUnits42 = 920000;\n",
    "TotalUnits32 = 530000;\n",
    "\n",
    "# Number of ODMs (treat ODMs making two different sizes as if they were separate ODMs, e.g. count them twice)\n",
    "NumODM = 9;\n",
    "\n",
    "# Number of transportation options\n",
    "NumTran = 7;\n",
    "\n",
    "# Minimum order size of 42\" or 32\" TV sets from any selected ODM\n",
    "MinProd = 200000;\n",
    "\n",
    "# Maximum order size of 42\" or 32\" TV sets from any selected ODM\n",
    "MaxProd = 600000;\n",
    "\n",
    "# Minimum number of 42\" / 32\" TV sets shipped by Regular Air or Air Express\n",
    "MinAir42 = 46000;\n",
    "MinAir32 = 53000;\n",
    "\n",
    "# Minimum number of 42\" / 32\" TV sets shipped by Road, Road LTL, or Road Network\n",
    "MinRoad42 = 92000;\n",
    "MinRoad32 = 79500;\n",
    "\n",
    "# Minimum number of 42\" / 32\" TV sets shipped by shipped by Rail\n",
    "MinRail42 = 138000;\n",
    "MinRail32 = 79500;"
   ]
  },
  {
   "cell_type": "code",
   "execution_count": 3,
   "metadata": {},
   "outputs": [
    {
     "data": {
      "text/plain": [
       "<gurobipy.Env, Parameter changes: OutputFlag=0>"
      ]
     },
     "execution_count": 3,
     "metadata": {},
     "output_type": "execute_result"
    }
   ],
   "source": [
    "import gurobipy as gp\n",
    "from gurobipy import GRB\n",
    "\n",
    "# Set up Gurobi environment\n",
    "env = gp.Env(empty=True)\n",
    "env.setParam('OutputFlag', 0)\n",
    "env.start()"
   ]
  },
  {
   "cell_type": "code",
   "execution_count": 4,
   "metadata": {},
   "outputs": [],
   "source": [
    "# Initialize the model\n",
    "m = gp.Model(env=env)\n",
    "\n",
    "### Decision Variables ###\n",
    "\n",
    "# A vector of binary decision variables that denote which ODMs are selected\n",
    "X = m.addMVar(NumODM, vtype=GRB.BINARY, name='X')\n",
    "\n",
    "# Supply Chain Matrix\n",
    "# Indicates how many TV sets will be produced by the selected ODMs and how they will be shipped to the distribution center\n",
    "SCM = m.addMVar((NumODM,NumTran), name='SCM')"
   ]
  },
  {
   "cell_type": "code",
   "execution_count": 5,
   "metadata": {},
   "outputs": [],
   "source": [
    "### Constraints ###\n",
    "# Total production for each ODM must be greater than the minimum order size if the ODM is selected\n",
    "Const1a = m.addConstrs((SCM[i,:].sum() >= (MinProd * X[i]) for i in range(NumODM)), name='Const1a')\n",
    "\n",
    "# Total production for each ODM must be less than the maximum order size if the ODM is selected\n",
    "Const1b = m.addConstrs((SCM[i,:].sum() <= (MaxProd * X[i]) for i in range(NumODM)), name='Const1b')"
   ]
  },
  {
   "cell_type": "code",
   "execution_count": 6,
   "metadata": {},
   "outputs": [],
   "source": [
    "# Total number of TVs for each shipping mode must be greater than the Minimum Shipping Requirement\n",
    "Const2a1 = m.addConstr((SCM[0:7,0:2].sum() >= MinAir42), name='Const2a1') # 42\" Air or Air Express\n",
    "Const2b1 = m.addConstr((SCM[0:7,2:5].sum() >= MinRoad42), name='Const2b1') # 42\" Road, Road LTL, or Road Network\n",
    "Const2c1 = m.addConstr((SCM[0:7,5].sum() >= MinRail42), name='Const2c1') # 42\" Rail\n",
    "Const2a2 = m.addConstr((SCM[7:9,0:2].sum() >= MinAir32), name='Const2a2') # 32\" Air or Air Express\n",
    "Const2b2 = m.addConstr((SCM[7:9,2:5].sum() >= MinRoad32), name='Const2b2') # 32\" Road, Road LTL, or Road Network\n",
    "Const2c2 = m.addConstr((SCM[7:9,5].sum() >= MinRail32), name='Const2c2') # 32\" Rail"
   ]
  },
  {
   "cell_type": "code",
   "execution_count": 7,
   "metadata": {},
   "outputs": [],
   "source": [
    "# ODM5 can't ship by Regular Air, Air Express, Rail, or Water (Hint: SCM [4, 1] corresponding to ODM5 shipping via Air Express)\n",
    "Const3a = m.addConstr((SCM[4,0] == 0), name='Const3a') # Regular Air\n",
    "Const3b = m.addConstr((SCM[4,1] == 0), name='Const3b') # Air Express\n",
    "Const3c = m.addConstr((SCM[4,5] == 0), name='Const3c') # Rail\n",
    "Const3d = m.addConstr((SCM[4,6] == 0), name='Const3d') # Water\n",
    "\n",
    "# ODM6 can't ship by Road, Road LTL, Road Network, and Rail\n",
    "Const4a = m.addConstr((SCM[5,2] == 0), name='Const4a') # Road\n",
    "Const4b = m.addConstr((SCM[5,3] == 0), name='Const4b') # Road LTL\n",
    "Const4c = m.addConstr((SCM[5,4] == 0), name='Const4c') # Road Network\n",
    "Const4d = m.addConstr((SCM[5,5] == 0), name='Const4d') # Rail"
   ]
  },
  {
   "cell_type": "code",
   "execution_count": 8,
   "metadata": {},
   "outputs": [],
   "source": [
    "# Total cost must be less than total budget\n",
    "Const5 = m.addConstr((sum(PSCU[i] @ SCM[i] for i in range(NumODM)) <= TotalBudget), name='Const5')"
   ]
  },
  {
   "cell_type": "code",
   "execution_count": 9,
   "metadata": {},
   "outputs": [],
   "source": [
    "# Total units for each model must be equal to the desired quantities\n",
    "Const6a = m.addConstr((SCM[0:7,:].sum() == TotalUnits42), name='Const6a') # 42\" Total Units\n",
    "Const6b = m.addConstr((SCM[7:9,:].sum() == TotalUnits32), name='Const6b') # 32\" Total Units"
   ]
  },
  {
   "cell_type": "code",
   "execution_count": 10,
   "metadata": {},
   "outputs": [],
   "source": [
    "# Objective function: minimize CO2 emissions\n",
    "m.setObjective(sum(CEU[i] @ SCM[i] for i in range(NumODM)), GRB.MINIMIZE)"
   ]
  },
  {
   "cell_type": "code",
   "execution_count": 11,
   "metadata": {},
   "outputs": [],
   "source": [
    "# Update and write the model\n",
    "m.update() # Update model parameters\n",
    "m.write(\"HW4.lp\") # Write model to file"
   ]
  },
  {
   "cell_type": "code",
   "execution_count": 12,
   "metadata": {},
   "outputs": [],
   "source": [
    "# Solve\n",
    "m.optimize()"
   ]
  },
  {
   "cell_type": "code",
   "execution_count": 13,
   "metadata": {},
   "outputs": [
    {
     "name": "stdout",
     "output_type": "stream",
     "text": [
      "\n",
      "Objective value:  7401309.890259991\n"
     ]
    }
   ],
   "source": [
    "# Print optimal objective function value\n",
    "print(\"\\nObjective value: \", m.getAttr(\"ObjVal\"))"
   ]
  },
  {
   "cell_type": "code",
   "execution_count": 14,
   "metadata": {},
   "outputs": [
    {
     "data": {
      "text/html": [
       "<div>\n",
       "<style scoped>\n",
       "    .dataframe tbody tr th:only-of-type {\n",
       "        vertical-align: middle;\n",
       "    }\n",
       "\n",
       "    .dataframe tbody tr th {\n",
       "        vertical-align: top;\n",
       "    }\n",
       "\n",
       "    .dataframe thead th {\n",
       "        text-align: right;\n",
       "    }\n",
       "</style>\n",
       "<table border=\"1\" class=\"dataframe\">\n",
       "  <thead>\n",
       "    <tr style=\"text-align: right;\">\n",
       "      <th></th>\n",
       "      <th>Air</th>\n",
       "      <th>Express</th>\n",
       "      <th>Road</th>\n",
       "      <th>Road LTL</th>\n",
       "      <th>Road-Network</th>\n",
       "      <th>Rail</th>\n",
       "      <th>Water</th>\n",
       "    </tr>\n",
       "  </thead>\n",
       "  <tbody>\n",
       "    <tr>\n",
       "      <th>LCD 42\" ODM1</th>\n",
       "      <td>0.0</td>\n",
       "      <td>0.0</td>\n",
       "      <td>0.0</td>\n",
       "      <td>0.0</td>\n",
       "      <td>90450.0</td>\n",
       "      <td>0.0</td>\n",
       "      <td>229550.0</td>\n",
       "    </tr>\n",
       "    <tr>\n",
       "      <th>LCD 42\" ODM2</th>\n",
       "      <td>0.0</td>\n",
       "      <td>0.0</td>\n",
       "      <td>0.0</td>\n",
       "      <td>0.0</td>\n",
       "      <td>0.0</td>\n",
       "      <td>0.0</td>\n",
       "      <td>0.0</td>\n",
       "    </tr>\n",
       "    <tr>\n",
       "      <th>LCD 42\" ODM3</th>\n",
       "      <td>0.0</td>\n",
       "      <td>0.0</td>\n",
       "      <td>0.0</td>\n",
       "      <td>0.0</td>\n",
       "      <td>0.0</td>\n",
       "      <td>0.0</td>\n",
       "      <td>0.0</td>\n",
       "    </tr>\n",
       "    <tr>\n",
       "      <th>LCD 42\" ODM4</th>\n",
       "      <td>46000.0</td>\n",
       "      <td>0.0</td>\n",
       "      <td>0.0</td>\n",
       "      <td>0.0</td>\n",
       "      <td>1550.0</td>\n",
       "      <td>138000.0</td>\n",
       "      <td>414450.0</td>\n",
       "    </tr>\n",
       "    <tr>\n",
       "      <th>LCD 42\" ODM5</th>\n",
       "      <td>0.0</td>\n",
       "      <td>0.0</td>\n",
       "      <td>0.0</td>\n",
       "      <td>0.0</td>\n",
       "      <td>0.0</td>\n",
       "      <td>0.0</td>\n",
       "      <td>0.0</td>\n",
       "    </tr>\n",
       "    <tr>\n",
       "      <th>LCD 42\" ODM6</th>\n",
       "      <td>0.0</td>\n",
       "      <td>0.0</td>\n",
       "      <td>0.0</td>\n",
       "      <td>0.0</td>\n",
       "      <td>0.0</td>\n",
       "      <td>0.0</td>\n",
       "      <td>0.0</td>\n",
       "    </tr>\n",
       "    <tr>\n",
       "      <th>LCD 42\" ODM7</th>\n",
       "      <td>0.0</td>\n",
       "      <td>0.0</td>\n",
       "      <td>0.0</td>\n",
       "      <td>0.0</td>\n",
       "      <td>0.0</td>\n",
       "      <td>0.0</td>\n",
       "      <td>0.0</td>\n",
       "    </tr>\n",
       "    <tr>\n",
       "      <th>LCD 32\" ODM1</th>\n",
       "      <td>53000.0</td>\n",
       "      <td>0.0</td>\n",
       "      <td>0.0</td>\n",
       "      <td>0.0</td>\n",
       "      <td>79500.0</td>\n",
       "      <td>79500.0</td>\n",
       "      <td>318000.0</td>\n",
       "    </tr>\n",
       "    <tr>\n",
       "      <th>LCD 32\" ODM2</th>\n",
       "      <td>0.0</td>\n",
       "      <td>0.0</td>\n",
       "      <td>0.0</td>\n",
       "      <td>0.0</td>\n",
       "      <td>0.0</td>\n",
       "      <td>0.0</td>\n",
       "      <td>0.0</td>\n",
       "    </tr>\n",
       "  </tbody>\n",
       "</table>\n",
       "</div>"
      ],
      "text/plain": [
       "                  Air  Express  Road  Road LTL  Road-Network      Rail  \\\n",
       "LCD 42\" ODM1      0.0      0.0   0.0       0.0       90450.0       0.0   \n",
       "LCD 42\" ODM2      0.0      0.0   0.0       0.0           0.0       0.0   \n",
       "LCD 42\" ODM3      0.0      0.0   0.0       0.0           0.0       0.0   \n",
       "LCD 42\" ODM4  46000.0      0.0   0.0       0.0        1550.0  138000.0   \n",
       "LCD 42\" ODM5      0.0      0.0   0.0       0.0           0.0       0.0   \n",
       "LCD 42\" ODM6      0.0      0.0   0.0       0.0           0.0       0.0   \n",
       "LCD 42\" ODM7      0.0      0.0   0.0       0.0           0.0       0.0   \n",
       "LCD 32\" ODM1  53000.0      0.0   0.0       0.0       79500.0   79500.0   \n",
       "LCD 32\" ODM2      0.0      0.0   0.0       0.0           0.0       0.0   \n",
       "\n",
       "                 Water  \n",
       "LCD 42\" ODM1  229550.0  \n",
       "LCD 42\" ODM2       0.0  \n",
       "LCD 42\" ODM3       0.0  \n",
       "LCD 42\" ODM4  414450.0  \n",
       "LCD 42\" ODM5       0.0  \n",
       "LCD 42\" ODM6       0.0  \n",
       "LCD 42\" ODM7       0.0  \n",
       "LCD 32\" ODM1  318000.0  \n",
       "LCD 32\" ODM2       0.0  "
      ]
     },
     "execution_count": 14,
     "metadata": {},
     "output_type": "execute_result"
    }
   ],
   "source": [
    "# Print the optimal decsion variable solutions\n",
    "import pandas as pd\n",
    "transport_names = ['Air', 'Express', 'Road', 'Road LTL', 'Road-Network', 'Rail', 'Water']\n",
    "ODM_names = ['LCD 42\" ODM1', 'LCD 42\" ODM2', 'LCD 42\" ODM3', 'LCD 42\" ODM4', 'LCD 42\" ODM5', \n",
    "             'LCD 42\" ODM6', 'LCD 42\" ODM7', 'LCD 32\" ODM1', 'LCD 32\" ODM2']\n",
    "\n",
    "pd.DataFrame(SCM.getAttr('x'), index=ODM_names, columns=transport_names)"
   ]
  },
  {
   "cell_type": "code",
   "execution_count": 15,
   "metadata": {},
   "outputs": [
    {
     "data": {
      "text/plain": [
       "3000000000.0"
      ]
     },
     "execution_count": 15,
     "metadata": {},
     "output_type": "execute_result"
    }
   ],
   "source": [
    "# Calculate used budget\n",
    "np.nan_to_num(np.multiply(PSCU, SCM.getAttr('x'))).sum()"
   ]
  },
  {
   "cell_type": "code",
   "execution_count": 16,
   "metadata": {},
   "outputs": [],
   "source": [
    "# Place optimization formulation inside a function to allow different inputs to be run quickly\n",
    "def ITM_Optimizer(budget_mult):\n",
    "    # Initialize the model\n",
    "    m = gp.Model(env=env)\n",
    "\n",
    "    ### Decision Variables ###\n",
    "\n",
    "    # A vector of binary decision variables that denote which ODMs are selected\n",
    "    X = m.addMVar(NumODM, vtype=GRB.BINARY, name='X')\n",
    "\n",
    "    # Supply Chain Matrix\n",
    "    # Indicates how many TV sets will be produced by the selected ODMs and how they will be shipped to the distribution center\n",
    "    SCM = m.addMVar((NumODM,NumTran), name='SCM')\n",
    "\n",
    "    ### Constraints ###\n",
    "    # Total production for each ODM must be greater than the minimum order size if the ODM is selected\n",
    "    Const1a = m.addConstrs((SCM[i,:].sum() >= (MinProd * X[i]) for i in range(NumODM)), name='Const1a')\n",
    "\n",
    "    # Total production for each ODM must be less than the maximum order size if the ODM is selected\n",
    "    Const1b = m.addConstrs((SCM[i,:].sum() <= (MaxProd * X[i]) for i in range(NumODM)), name='Const1b')\n",
    "\n",
    "    # Total number of TVs for each shipping mode must be greater than the Minimum Shipping Requirement\n",
    "    Const2a1 = m.addConstr((SCM[0:7,0:2].sum() >= MinAir42), name='Const2a1') # 42\" Air or Air Express\n",
    "    Const2b1 = m.addConstr((SCM[0:7,2:5].sum() >= MinRoad42), name='Const2b1') # 42\" Road, Road LTL, or Road Network\n",
    "    Const2c1 = m.addConstr((SCM[0:7,5].sum() >= MinRail42), name='Const2c1') # 42\" Rail\n",
    "    Const2a2 = m.addConstr((SCM[7:9,0:2].sum() >= MinAir32), name='Const2a2') # 32\" Air or Air Express\n",
    "    Const2b2 = m.addConstr((SCM[7:9,2:5].sum() >= MinRoad32), name='Const2b2') # 32\" Road, Road LTL, or Road Network\n",
    "    Const2c2 = m.addConstr((SCM[7:9,5].sum() >= MinRail32), name='Const2c2') # 32\" Rail\n",
    "\n",
    "    # ODM5 can't ship by Regular Air, Air Express, Rail, or Water (Hint: SCM [4, 1] corresponding to ODM5 shipping via Air Express)\n",
    "    Const3a = m.addConstr((SCM[4,0] == 0), name='Const3a') # Regular Air\n",
    "    Const3b = m.addConstr((SCM[4,1] == 0), name='Const3b') # Air Express\n",
    "    Const3c = m.addConstr((SCM[4,5] == 0), name='Const3c') # Rail\n",
    "    Const3d = m.addConstr((SCM[4,6] == 0), name='Const3d') # Water\n",
    "\n",
    "    # ODM6 can't ship by Road, Road LTL, Road Network, and Rail\n",
    "    Const4a = m.addConstr((SCM[5,2] == 0), name='Const4a') # Road\n",
    "    Const4b = m.addConstr((SCM[5,3] == 0), name='Const4b') # Road LTL\n",
    "    Const4c = m.addConstr((SCM[5,4] == 0), name='Const4c') # Road Network\n",
    "    Const4d = m.addConstr((SCM[5,5] == 0), name='Const4d') # Rail\n",
    "\n",
    "    # Total cost must be less than total budget\n",
    "    Const5 = m.addConstr((sum(PSCU[i] @ SCM[i] for i in range(NumODM)) <= TotalBudget*(1+budget_mult)), name='Const5')\n",
    "\n",
    "    # Total units for each model must be equal to the desired quantities\n",
    "    Const6a = m.addConstr((SCM[0:7,:].sum() == TotalUnits42), name='Const6a') # 42\" Total Units\n",
    "    Const6b = m.addConstr((SCM[7:9,:].sum() == TotalUnits32), name='Const6b') # 32\" Total Units\n",
    "\n",
    "    # Objective function: minimize CO2 emissions\n",
    "    m.setObjective(sum(CEU[i] @ SCM[i] for i in range(NumODM)), GRB.MINIMIZE)\n",
    "\n",
    "    m.update() # Update model parameters\n",
    "    # Solve\n",
    "    m.optimize()\n",
    "    \n",
    "    print(\"\\nObjective value: \", m.getAttr(\"ObjVal\"))\n",
    "\n",
    "    return m.getAttr(\"ObjVal\")"
   ]
  },
  {
   "cell_type": "code",
   "execution_count": 17,
   "metadata": {},
   "outputs": [
    {
     "name": "stdout",
     "output_type": "stream",
     "text": [
      "\n",
      "Objective value:  7401309.890259991\n",
      "\n",
      "Objective value:  5513060.483081695\n",
      "\n",
      "Objective value:  4542391.076797708\n",
      "\n",
      "Objective value:  3572591.489201123\n",
      "\n",
      "Objective value:  3502042.7601499995\n",
      "\n",
      "Objective value:  3479982.2601499995\n",
      "\n",
      "Objective value:  3416981.696213361\n",
      "\n",
      "Objective value:  3373499.9820685117\n"
     ]
    }
   ],
   "source": [
    "# Run optimization for a range of increased budgets\n",
    "budget_mults = np.arange(0, .16, .02)\n",
    "obj_vals = []\n",
    "for i in range (0,budget_mults.size):\n",
    "    obj_vals.append(ITM_Optimizer(budget_mults[i]))"
   ]
  },
  {
   "cell_type": "code",
   "execution_count": 18,
   "metadata": {},
   "outputs": [
    {
     "data": {
      "image/png": "[encoded data removed]",
      "text/plain": [
       "<Figure size 1080x720 with 1 Axes>"
      ]
     },
     "metadata": {
      "needs_background": "light"
     },
     "output_type": "display_data"
    }
   ],
   "source": [
    "# Graph results\n",
    "import matplotlib.pyplot as plt\n",
    "plt.rcParams.update({\n",
    "    'figure.figsize': [15, 10],\n",
    "    'font.size': 20,\n",
    "    'axes.titlesize' : 20,\n",
    "    'axes.labelsize' : 18,\n",
    "    'lines.linewidth' : 2,\n",
    "    'lines.markersize' : 10,\n",
    "    'xtick.labelsize' : 16,\n",
    "    'ytick.labelsize' : 16\n",
    "})\n",
    "\n",
    "plt.plot(budget_mults, obj_vals)\n",
    "plt.xlabel(\"%Budget Increase\")\n",
    "plt.ylabel(\"CO2 Emission\");\n",
    "plt.savefig('Budget_vs_CO2.png', bbox_inches='tight', dpi=300, transparent=True)\n",
    "plt.show()"
   ]
  },
  {
   "cell_type": "code",
   "execution_count": null,
   "metadata": {},
   "outputs": [],
   "source": []
  }
 ],
 "metadata": {
  "kernelspec": {
   "display_name": "Python 3 (ipykernel)",
   "language": "python",
   "name": "python3"
  },
  "language_info": {
   "codemirror_mode": {
    "name": "ipython",
    "version": 3
   },
   "file_extension": ".py",
   "mimetype": "text/x-python",
   "name": "python",
   "nbconvert_exporter": "python",
   "pygments_lexer": "ipython3",
   "version": "3.9.12"
  }
 },
 "nbformat": 4,
 "nbformat_minor": 2
}
