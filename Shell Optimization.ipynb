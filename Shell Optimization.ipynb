{
 "cells": [
  {
   "cell_type": "markdown",
   "metadata": {},
   "source": [
    "## Loading Libraries"
   ]
  },
  {
   "cell_type": "code",
   "execution_count": null,
   "metadata": {},
   "outputs": [],
   "source": [
    "import pandas as pd\n",
    "import numpy as np\n",
    "import matplotlib.pyplot as plt\n",
    "\n",
    "import gurobipy as gp\n",
    "from gurobipy import GRB\n",
    "\n"
   ]
  },
  {
   "cell_type": "markdown",
   "metadata": {},
   "source": [
    "## 1. Loading the data"
   ]
  },
  {
   "cell_type": "code",
   "execution_count": null,
   "metadata": {},
   "outputs": [],
   "source": [
    "#read csv into dataframe\n",
    "input = pd.read_csv(\"data_input.csv\")\n",
    "\n",
    "#read distance matrix into dataframe\n",
    "distance = pd.read_csv(\"Distance_Matrix.csv\", index_col=0, header=0)"
   ]
  },
  {
   "cell_type": "code",
   "execution_count": null,
   "metadata": {},
   "outputs": [],
   "source": [
    "input"
   ]
  },
  {
   "cell_type": "markdown",
   "metadata": {},
   "source": [
    "## 2. Optimization Section"
   ]
  },
  {
   "cell_type": "code",
   "execution_count": null,
   "metadata": {},
   "outputs": [],
   "source": [
    "# Set up Gurobi environment\n",
    "env = gp.Env(empty=True)\n",
    "env.setParam('OutputFlag', 1)\n",
    "env.start()\n",
    "\n",
    "# Initialize the model\n",
    "m = gp.Model(env=env)"
   ]
  },
  {
   "cell_type": "markdown",
   "metadata": {},
   "source": [
    "### 2.1 Setting Data paremeters"
   ]
  },
  {
   "cell_type": "code",
   "execution_count": null,
   "metadata": {},
   "outputs": [],
   "source": [
    "#create data frame for only 2018 and 2019 data\n",
    "forecast = input[['Latitude','Longitude','2018','2019']] # F_it i refers to the index 0 to 2417 and t refers to the column 2018 and 2019\n",
    "forecast = forecast.head(300)\n",
    "distance\n",
    "distance =  distance.iloc[0:300,0:300]\n",
    "depot_cap = 20000\n",
    "refinary_cap = 100000"
   ]
  },
  {
   "cell_type": "markdown",
   "metadata": {},
   "source": [
    "### 2.2 Create Variables for Gurobi"
   ]
  },
  {
   "cell_type": "code",
   "execution_count": null,
   "metadata": {},
   "outputs": [],
   "source": [
    "# Create binary variable for depot location\n",
    "y = m.addVars(forecast.index, vtype=GRB.BINARY, name=\"y\")\n",
    "\n",
    "# Create binary variable for refinary location\n",
    "z = m.addVars(forecast.index, vtype=GRB.BINARY, name=\"z\")\n",
    "\n",
    "# Create a matrix variable for flow from biamass production to depot for each year 2018 and 2019\n",
    "B18 = m.addVars(forecast.index, forecast.index, vtype=GRB.CONTINUOUS, name=\"B18\")\n",
    "# for now 2019 is skipped\n",
    "\n",
    "# Create a matrix variable for flow from depot to refinary for each year 2018 and 2019\n",
    "P18 = m.addVars(forecast.index, forecast.index, vtype=GRB.CONTINUOUS, name=\"P18\")\n",
    "# for now 2019 is skipped"
   ]
  },
  {
   "cell_type": "markdown",
   "metadata": {},
   "source": [
    "### 2.3 Constraints"
   ]
  },
  {
   "cell_type": "code",
   "execution_count": null,
   "metadata": {},
   "outputs": [],
   "source": [
    "#1 All variables are positive \n",
    "m.addConstrs((B18[i,j] >= 0 for i in forecast.index for j in forecast.index), name=\"c1\")\n",
    "m.addConstrs((P18[i,j] >= 0 for i in forecast.index for j in forecast.index), name=\"c2\")\n",
    "\n",
    "#2 Biomass shipment from each index to any depot is less than the forecast for each year\n",
    "m.addConstrs((B18.sum(i,'*') <= forecast.loc[i,'2018']  for i in forecast.index), name=\"c3\") #forecast.loc[i,'2018']\n",
    "# need to add for 2019 as B19\n",
    "\n",
    "#3 Biomass shipment from each index to any depot must be less than depot capacity and only if its active\n",
    "m.addConstrs((B18.sum('*',j) <= depot_cap * y[j] for j in forecast.index), name=\"c4\")\n",
    "# need to add for 2019 as B19\n",
    "\n",
    "#4 Biomass shipment from each depot to refinary must be less than refinary capacity and only if its active\n",
    "m.addConstrs((P18.sum('*',k) <= refinary_cap * z[k] for k in forecast.index), name=\"c5\")\n",
    "# need to add for 2019 as P19\n",
    "\n",
    "#Totall depots cant be more than 25\n",
    "m.addConstr((y.sum() <= 25), name=\"c6\")\n",
    "\n",
    "#Total refinary cant be more than 5\n",
    "m.addConstr((z.sum() <= 5), name=\"c7\")\n",
    "\n",
    "#Total shipment from depot to reginary must be atleast 80% of total foreacast for 2018\n",
    "m.addConstr((P18.sum() >= 0.8 * forecast['2018'].sum()), name=\"c8\")\n",
    "# need to add for 2019 as P19\n",
    "\n",
    "# Flow constraint. The flow out of deport must be within 0.1% of the flow out of deport\n",
    "m.addConstrs(( P18.sum(j,'*') == B18.sum('*',j) * 1 for j in forecast.index), name=\"c9\")\n",
    "# need to add for 2019 as P19\n",
    "\n",
    "#m.addConstrs(( P18.sum(j,'*') <= B18.sum('*',j) * 1 for j in forecast.index), name=\"c9\")\n",
    "#m.addConstrs(( P18.sum(j,'*') >= B18.sum('*',j) * 0.999 for j in forecast.index), name=\"c10\")\n"
   ]
  },
  {
   "cell_type": "markdown",
   "metadata": {},
   "source": [
    "### 2.4 Objective Function"
   ]
  },
  {
   "cell_type": "code",
   "execution_count": null,
   "metadata": {},
   "outputs": [],
   "source": [
    "# objective function is the sum of distance from index to deport and depott to refinary\n",
    "m.setObjective(\n",
    "    (gp.quicksum(B18[i,j] * distance.iloc[i,j] for i in forecast.index for j in forecast.index) + \n",
    "    gp.quicksum(P18[i,j] * distance.iloc[i,j] for i in forecast.index for j in forecast.index) +\n",
    "    sum(depot_cap * y[j] for j in forecast.index) - B18.sum() + \n",
    "    sum(refinary_cap * z[k] for k in forecast.index) - P18.sum()    \n",
    "     )  , GRB.MINIMIZE)\n",
    "\n",
    "# Need to add for 2019 as P19 and B19"
   ]
  },
  {
   "cell_type": "code",
   "execution_count": null,
   "metadata": {},
   "outputs": [],
   "source": [
    "# Update and write the model\n",
    "m.update() # Update model parameters\n",
    "m.write(\"Shell.lp\") # Write model to file"
   ]
  },
  {
   "cell_type": "markdown",
   "metadata": {},
   "source": [
    "### 2.5 Optimize"
   ]
  },
  {
   "cell_type": "code",
   "execution_count": null,
   "metadata": {},
   "outputs": [],
   "source": [
    "    m.optimize()\n",
    "    \n",
    "    print(\"\\nObjective value: \", m.getAttr(\"ObjVal\"))"
   ]
  },
  {
   "cell_type": "markdown",
   "metadata": {},
   "source": [
    "### 2.6 Makign the csv file"
   ]
  },
  {
   "cell_type": "code",
   "execution_count": null,
   "metadata": {},
   "outputs": [],
   "source": [
    "#write into csv with specific column names\n",
    "output = pd.DataFrame(columns=['year','data_type','source_index','destination_index','value'])\n",
    "depot_plot = pd.DataFrame(columns=['index','value'])\n",
    "refinary_plot = pd.DataFrame(columns=['index','value'])\n",
    "#make csv from output\n",
    "output.to_csv('output.csv', index=False)\n",
    "# append rows into csv\n",
    "\n"
   ]
  },
  {
   "cell_type": "code",
   "execution_count": null,
   "metadata": {},
   "outputs": [],
   "source": [
    "#print solution of vatriable y ~Depot\n",
    "solution = m.getAttr('x',y)\n",
    "\n",
    "for v in solution:\n",
    "    if solution[v] > 0:\n",
    "        #print(v, solution[v])\n",
    "        #add as row to output csv\n",
    "        output.loc[len(output)] = [20182019, 'depot_location', v,'', solution[v]]\n",
    "        depot_plot.loc[len(depot_plot)] = [v, solution[v]]\n",
    "\n",
    "output.to_csv('output.csv', index=False)"
   ]
  },
  {
   "cell_type": "code",
   "execution_count": null,
   "metadata": {},
   "outputs": [],
   "source": [
    "#print solution of vatriable z ~Refinary\n",
    "solution = m.getAttr('x',z)\n",
    "\n",
    "for v in solution:\n",
    "    if solution[v] > 0:\n",
    "        #print(v, solution[v])\n",
    "        output.loc[len(output)] = [20182019, 'refinery_location', v,'', solution[v]]\n",
    "        refinary_plot.loc[len(refinary_plot)] = [v, solution[v]]\n",
    "\n",
    "output.to_csv('output.csv', index=False)"
   ]
  },
  {
   "cell_type": "code",
   "execution_count": null,
   "metadata": {},
   "outputs": [],
   "source": [
    "# add forecast of 2018 and 2019 into the csv file\n",
    "for i in forecast.index:\n",
    "    output.loc[len(output)] = [2018, 'biomass_forecast', i,'', forecast.loc[i,'2018']]\n",
    "for i in forecast.index:\n",
    "    output.loc[len(output)] = [2019, 'biomass_forecast', i,'', forecast.loc[i,'2019']]\n",
    "\n",
    "output.to_csv('output.csv', index=False)"
   ]
  },
  {
   "cell_type": "code",
   "execution_count": null,
   "metadata": {},
   "outputs": [],
   "source": [
    "#print solution of vatriable B ij ~Biomass moved from i to j\n",
    "solution = m.getAttr('x',B18)\n",
    "\n",
    "for v in solution:\n",
    "    if solution[v] > 0:\n",
    "        #print(v[0],v[1], solution[v])\n",
    "        output.loc[len(output)] = [2018, 'biomass_demand_supply', v[0],v[1], solution[v]]\n",
    "\n",
    "#repeat for 2019\n",
    "#solution = m.getAttr('x',B18) Later add B19 to this\n",
    "\n",
    "for v in solution:\n",
    "    if solution[v] > 0:\n",
    "        #print(v[0],v[1], solution[v])\n",
    "        output.loc[len(output)] = [2019, 'biomass_demand_supply', v[0],v[1], solution[v]]\n",
    "\n",
    "output.to_csv('output.csv', index=False)"
   ]
  },
  {
   "cell_type": "code",
   "execution_count": null,
   "metadata": {},
   "outputs": [],
   "source": [
    "#print solution of vatriable P ij ~Biomass moved from i to j\n",
    "solution = m.getAttr('x',P18)\n",
    "\n",
    "for v in solution:\n",
    "    if solution[v] > 0:\n",
    "        #print(v[0],v[1], solution[v])\n",
    "        output.loc[len(output)] = [2018, 'pellet_demand_supply', v[0],v[1], solution[v]]\n",
    "\n",
    "#repeat for 2019\n",
    "#solution = m.getAttr('x',P18) Later add B19 to this\n",
    "\n",
    "for v in solution:\n",
    "    if solution[v] > 0:\n",
    "        #print(v[0],v[1], solution[v])\n",
    "        output.loc[len(output)] = [2019, 'pellet_demand_supply', v[0],v[1], solution[v]]\n",
    "\n",
    "output.to_csv('output.csv', index=False)"
   ]
  },
  {
   "cell_type": "markdown",
   "metadata": {},
   "source": [
    "### 2.7 Visualize Map and Locations"
   ]
  },
  {
   "cell_type": "code",
   "execution_count": null,
   "metadata": {},
   "outputs": [],
   "source": [
    "# add latitude and longitude from forecast to depot_plot dataframe\n",
    "for i in depot_plot.index:\n",
    "    depot_plot.loc[i,'Latitude'] = forecast.loc[int(depot_plot.loc[i,'index']),'Latitude']\n",
    "    depot_plot.loc[i,'Longitude'] = forecast.loc[int(depot_plot.loc[i,'index']),'Longitude']\n",
    "\n",
    "#depot_plot   "
   ]
  },
  {
   "cell_type": "code",
   "execution_count": null,
   "metadata": {},
   "outputs": [],
   "source": [
    "# add latitude and longitude from forecast to refinary_plot dataframe\n",
    "for i in refinary_plot.index:\n",
    "    refinary_plot.loc[i,'Latitude'] = forecast.loc[int(depot_plot.loc[i,'index']),'Latitude']\n",
    "    refinary_plot.loc[i,'Longitude'] = forecast.loc[int(depot_plot.loc[i,'index']),'Longitude']\n",
    "\n",
    "#refinary_plot"
   ]
  },
  {
   "cell_type": "code",
   "execution_count": null,
   "metadata": {},
   "outputs": [],
   "source": [
    "#plot latitude on x axis and longiture on y axis and plot each point of foreacst into a graph and add a color scale  \n",
    "#forecast = input[['Latitude','Longitude','2018','2019']]\n",
    "\n",
    "plt.figure(figsize=(8,6))\n",
    "\n",
    "plt.scatter(forecast['Longitude'], forecast['Latitude'], c=forecast['2018'],cmap='cool', edgecolors='k', s=15) #binary or rainbow https://matplotlib.org/stable/tutorials/colors/colormaps.html\n",
    "#add depot and refinary location into scatter plot as red and black points\n",
    "plt.scatter(depot_plot['Longitude'], depot_plot['Latitude'], c='r', edgecolors='k', s=50)\n",
    "plt.scatter(refinary_plot['Longitude'], refinary_plot['Latitude'], c='k', edgecolors='k', s=50)\n",
    "\n",
    "# Add colorbar\n",
    "cbar = plt.colorbar()\n",
    "cbar.set_label('Color Scale')\n",
    "\n",
    "# Customize the plot (labels, title, etc.)\n",
    "plt.xlabel('Longitude')\n",
    "plt.ylabel('Latitude')\n",
    "plt.title('Biomass forecase for 2018')\n",
    "plt.xlim(68,75)\n",
    "plt.ylim(20,25)\n",
    "plt.show()\n"
   ]
  },
  {
   "cell_type": "markdown",
   "metadata": {},
   "source": []
  },
  {
   "cell_type": "markdown",
   "metadata": {},
   "source": []
  }
 ],
 "metadata": {
  "kernelspec": {
   "display_name": "Python 3 (ipykernel)",
   "language": "python",
   "name": "python3"
  },
  "language_info": {
   "codemirror_mode": {
    "name": "ipython",
    "version": 3
   },
   "file_extension": ".py",
   "mimetype": "text/x-python",
   "name": "python",
   "nbconvert_exporter": "python",
   "pygments_lexer": "ipython3",
   "version": "3.11.0"
  }
 },
 "nbformat": 4,
 "nbformat_minor": 2
}
