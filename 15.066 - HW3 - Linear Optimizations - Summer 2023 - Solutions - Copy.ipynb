{
 "cells": [
  {
   "attachments": {},
   "cell_type": "markdown",
   "metadata": {},
   "source": [
    ">>># 15.066, Summer 2023\n",
    ">>>## System Optimization & Analysis for Operations\n",
    "\n",
    "### Problem Set 3 - Linear Optimization\n",
    "\n",
    "#### Due Date: July 21, 2023 <br>"
   ]
  },
  {
   "attachments": {},
   "cell_type": "markdown",
   "metadata": {},
   "source": [
    "--------------------------------------------------------------------------------------------------------------------------------\n",
    "\n",
    "### Instructions:\n",
    "\n",
    "1) Submit solutions that are your own, in your own words. You are allowed to discuss with other students in general terms, but make sure you are not copying verbatim from another student. Therefore do not read other students' solutions. If you use material from outside this class, reference it in your solution. \n",
    "\n",
    "2) Please download the python file attached in the assignment and complete your answers there in the same file. Read the questions carefully, and make sure you answer every part that the question asks.\n",
    "\n",
    "3) Include relevant code in the PDF submission even if the question doesn't explicitly ask for it. Upload your solutions as a PDF file. Include your name and MIT ID on the first page.\n",
    "\n",
    "4) To convert to pdf, you can use the \"print to pdf\" option in jupyter (or equivalent options in other IDE). There are other options to directly download in to pdf format which might include additional installation of packages. \n",
    "\n",
    "5) Show your work and explain your conclusions clearly and precisely. Plots should have clear titles and axis labels so that it is clear what your analysis is showing.\n",
    "\n",
    "--------------------------------------------------------------------------------------------------------------------------------"
   ]
  },
  {
   "attachments": {},
   "cell_type": "markdown",
   "metadata": {},
   "source": [
    "--------------------------------------------------------------------------------------------------------------------------------\n",
    "Name of Student:\n",
    "\n",
    "MIT ID Number:\n",
    "\n",
    "--------------------------------------------------------------------------------------------------------------------------------"
   ]
  },
  {
   "attachments": {},
   "cell_type": "markdown",
   "metadata": {},
   "source": [
    "In this assignment we will work on 4 different LP forumulations in Gurobi (With an additional extra credit problem) \n",
    "\n",
    "For each of them, a skeleton python code is provided, and you are tasked with filling in some additional bits and piecees. \n",
    "\n",
    "As a little help, the output of each cell is what it should be if you fill in the right code in each cell (where it is currently missing). Thus, do not run the line before copying the output as the output will be over written when you run the line. \n",
    "\n",
    "There is partial credits awarded for incorrect answers. Use comments to share your reasoning of choices for constraints/objective functions\n",
    "\n",
    "If in doubt, please do reach out to TAs in open hours or via mail. Have fun !!"
   ]
  },
  {
   "cell_type": "code",
   "execution_count": 2,
   "metadata": {},
   "outputs": [],
   "source": [
    "# Install Gurobi Python Interface\n",
    "\n",
    "import gurobipy as gp"
   ]
  },
  {
   "attachments": {},
   "cell_type": "markdown",
   "metadata": {},
   "source": [
    "#### Problem 1: Product mix and profit maximization (25 Marks)\n",
    "\n",
    "A canning company operates two plants (South and Central). Its suppliers provide fresh fruit of three different kinds (peaches, pears, and pineapples). The unit cost of peaches, pears, and pineapples is 110, 100, and 90 USD respectively. The shipping costs per unit are (respectively, for peaches, pears, and pineapples) 30, 20, and 60 USD to the southern plant. To the central plant, the shipping costs are 35, 25, and 40 USD. The southern plant has a capacity of 460 units, and labor costs of 260 USD per unit. The central plant has a capacity of 560 units, and labor costs of 210 USD per unit. Labor costs at both plants are independent of fruit type.\n",
    "\n",
    "Cans of peaches, pears, and pineapples are sold to distributors at 480, 500, and 520 USD per unit respectively. The distributors provide (and pay for) the shipping from the plants.\n",
    "\n",
    "Assuming that the company wants to maximize its profit, how much of each fruit should they can at each of the factories?\n",
    "\n",
    "(Please note that you can use the math notations directly into the code.Refer to recitation ipynb file for how to write)"
   ]
  },
  {
   "attachments": {},
   "cell_type": "markdown",
   "metadata": {},
   "source": [
    "- What decision variables would you use to find the optimal shipments? (5 Marks)"
   ]
  },
  {
   "attachments": {},
   "cell_type": "markdown",
   "metadata": {},
   "source": [
    "[Answer]\n",
    "One variable per fruit/plan combination: $x_{ij}$ equal to the quantity of fruit $i\\in\\{\\text{peach, pear, pineaple}\\}$ provided to plant $j\\in\\{\\text{south, central}\\}$."
   ]
  },
  {
   "attachments": {},
   "cell_type": "markdown",
   "metadata": {},
   "source": [
    "- How would you encode the objective of this LP? (10 Marks)"
   ]
  },
  {
   "attachments": {},
   "cell_type": "markdown",
   "metadata": {},
   "source": [
    "[Answer] Let $c_i$ be the cost of each fruit $i$, $s_{ij}$ be the shipping cost of each fruit $i$ to plant $j$, and $l_j$ the labor cost per unit of fruit of plant $j$. Let $r_i$ be the sell value of each fruit $i$.\n",
    "\n",
    "Total fruit $i$ produced: $\\sum_j x_{ij}$.\n",
    "\n",
    "Total fruit in plant $j$: $\\sum_j x_{ij}$.\n",
    "\n",
    "Then, the objective would be to maximize the total profit:\n",
    "\n",
    "$$\\sum_i r_i\\left(\\sum_j x_{ij}\\right) - \\sum_i c_i \\left(\\sum_j x_{ij}\\right) - \\sum_j l_j\\left(\\sum_i x_{ij}\\right).$$\n",
    "\n",
    "Note that since the distributor pays for the shipping, we don't need to incorporate that in the objective."
   ]
  },
  {
   "attachments": {},
   "cell_type": "markdown",
   "metadata": {},
   "source": [
    "- What kind of constraints will a LP require to solve this question? First describe the effect each constraint would have in English, then write them out (notice that Jupyter should understand latex, so you can either write them out in mathematical form or write out a description like \"sum over all variables of this type be at most that\" --- in the latter case, make sure to be as precise as possible!) (10 Marks)"
   ]
  },
  {
   "attachments": {},
   "cell_type": "markdown",
   "metadata": {},
   "source": [
    "[Answer] \n",
    "There is a capacity constraint on how much fruit can be stored at a plant:\n",
    "\n",
    "$$\\sum_i x_{i,south} \\leq 460,\\ \\ \\sum_i x_{i,central} \\leq 560$$"
   ]
  },
  {
   "attachments": {},
   "cell_type": "markdown",
   "metadata": {},
   "source": [
    "[Additional] Implementation of above problem in gurobi"
   ]
  },
  {
   "attachments": {},
   "cell_type": "markdown",
   "metadata": {},
   "source": [
    "We have shared the Gurobi Implementation code below for your reference. Try running the code. \n",
    "\n",
    "Please ensure that your gurobi installation is complete before running the code !!"
   ]
  },
  {
   "cell_type": "code",
   "execution_count": 3,
   "metadata": {},
   "outputs": [
    {
     "name": "stdout",
     "output_type": "stream",
     "text": [
      "Set parameter Username\n",
      "Academic license - for non-commercial use only - expires 2024-04-23\n",
      "Gurobi Optimizer version 10.0.1 build v10.0.1rc0 (win64)\n",
      "\n",
      "CPU model: 11th Gen Intel(R) Core(TM) i5-11300H @ 3.10GHz, instruction set [SSE2|AVX|AVX2|AVX512]\n",
      "Thread count: 4 physical cores, 8 logical processors, using up to 8 threads\n",
      "\n",
      "Optimize a model with 2 rows, 6 columns and 6 nonzeros\n",
      "Model fingerprint: 0x3b3074df\n",
      "Coefficient statistics:\n",
      "  Matrix range     [1e+00, 1e+00]\n",
      "  Objective range  [8e+01, 2e+02]\n",
      "  Bounds range     [0e+00, 0e+00]\n",
      "  RHS range        [5e+02, 6e+02]\n",
      "Presolve removed 2 rows and 6 columns\n",
      "Presolve time: 0.02s\n",
      "Presolve: All rows and columns removed\n",
      "Iteration    Objective       Primal Inf.    Dual Inf.      Time\n",
      "       0    1.5600000e+05   0.000000e+00   0.000000e+00      0s\n",
      "\n",
      "Solved in 0 iterations and 0.02 seconds (0.00 work units)\n",
      "Optimal objective  1.560000000e+05\n",
      "0 South 0.0\n",
      "0 Central 0.0\n",
      "1 South 460.0\n",
      "1 Central 0.0\n",
      "2 South 0.0\n",
      "2 Central 560.0\n"
     ]
    }
   ],
   "source": [
    "plants = ['South', 'Central']\n",
    "# We won't save the fruits explicitly, and thus enumerate peach, pear, pineapple, as 0th, 1st, 2nd index\n",
    "# Also, instead of keeping c_i and r_i separately, we just define r_i-c_i\n",
    "net_revenues = [370, 400, 430]\n",
    "shipping_costs = {'South': [30,20,60], 'Central': [35,25,40]}\n",
    "capacities = {'South': 460, 'Central': 560}\n",
    "labor_costs = {'South': 260, 'Central': 210}\n",
    "\n",
    "m = gp.Model(\"primal\")\n",
    "x = {}\n",
    "fruits = [0,1,2]\n",
    "for fruit in fruits:\n",
    "    for plant in plants:\n",
    "        x[fruit,plant] = m.addVar(lb=0)\n",
    "for plant in plants:\n",
    "    m.addConstr(sum(x[fruit,plant] for fruit in fruits) <= capacities[plant])\n",
    "\n",
    "labor_cost = 0\n",
    "for plant in plants: labor_cost += labor_costs[plant] * sum(x[fruit,plant] for fruit in fruits)\n",
    "shipping_cost = 0\n",
    "for plant in plants: shipping_cost += sum(shipping_costs[plant][fruit] * x[fruit,plant] for fruit in fruits)\n",
    "net_revenue = 0\n",
    "for plant in plants: net_revenue += sum(x[fruit,plant]*net_revenues[fruit] for fruit in fruits)\n",
    "m.setObjective(net_revenue-labor_cost-shipping_cost, gp.GRB.MAXIMIZE)\n",
    "m.optimize()\n",
    "for fruit, plant in x:\n",
    "    if x[fruit,plant].x >=0: print(fruit, plant, x[fruit,plant].x)"
   ]
  },
  {
   "attachments": {},
   "cell_type": "markdown",
   "metadata": {},
   "source": [
    "- Based on the above implementation, write down which Fruit, Which Region, and How much are we producing ? (5 Marks)"
   ]
  },
  {
   "attachments": {},
   "cell_type": "markdown",
   "metadata": {},
   "source": [
    "[Answer]\n",
    "Pear South 460 \n",
    "Pineapple 560"
   ]
  },
  {
   "attachments": {},
   "cell_type": "markdown",
   "metadata": {},
   "source": [
    "### Problem 2 (25 Marks)\n",
    "\n",
    "Problem 2 in this homework is a \"classical first linear programming problem\": a diet optimization problem. \n",
    "\n",
    "We are given different types of food, that each come with a (financial) cost and with nutritional information (amount of calories, protein, fat, and sodium). In addition, we are told in what limits our nutritional intake should be for each of the nutrients (e.g., at least 91g of protein).\n",
    "\n",
    "Below, we will walk you through the optimization problem that aims to minimize the financial cost of the food items we consume whilst guaranteeing that we are within the limits of calories,protein, fat, and sodium."
   ]
  },
  {
   "cell_type": "code",
   "execution_count": 4,
   "metadata": {},
   "outputs": [],
   "source": [
    "# Data for the problem\n",
    "\n",
    "# Data 1 : The below dictionary shows the minimum and maximum ranges of each nutrient\n",
    "categories, minNutrition, maxNutrition = gp.multidict({\n",
    "    'calories': [1500, 2200],\n",
    "    'protein':  [91, gp.GRB.INFINITY],\n",
    "    'fat':      [15, 65], # changed from 0 to 15 \n",
    "    'sodium':   [10, 1779]}) # changed from 0 to 10 \n",
    "\n",
    "# Data 2 : The below dictionary shows the cost of each available food\n",
    "foods, cost = gp.multidict({\n",
    "    'hamburger': 2.49,\n",
    "    'chicken':   2.89,\n",
    "    'hot dog':   1.50,\n",
    "    'fries':     1.89,\n",
    "    'macaroni':  2.09,\n",
    "    'pizza':     1.99,\n",
    "    'salad':     2.49,\n",
    "    'milk':      0.89,\n",
    "    'ice cream': 1.59})\n",
    "\n",
    "# Data 3 : The below dictionary shows the the amount of distinct nutrition available in each food\n",
    "nutritionValues = {\n",
    "    ('hamburger', 'calories'): 910, # changed from 410 to 910\n",
    "    ('hamburger', 'protein'):  24,\n",
    "    ('hamburger', 'fat'):      26,\n",
    "    ('hamburger', 'sodium'):   730,\n",
    "    ('chicken',   'calories'): 420,\n",
    "    ('chicken',   'protein'):  32,\n",
    "    ('chicken',   'fat'):      10,\n",
    "    ('chicken',   'sodium'):   1190,\n",
    "    ('hot dog',   'calories'): 560,\n",
    "    ('hot dog',   'protein'):  20,\n",
    "    ('hot dog',   'fat'):      32,\n",
    "    ('hot dog',   'sodium'):   1800,\n",
    "    ('fries',     'calories'): 380,\n",
    "    ('fries',     'protein'):  4,\n",
    "    ('fries',     'fat'):      19,\n",
    "    ('fries',     'sodium'):   270,\n",
    "    ('macaroni',  'calories'): 320,\n",
    "    ('macaroni',  'protein'):  12,\n",
    "    ('macaroni',  'fat'):      10,\n",
    "    ('macaroni',  'sodium'):   930,\n",
    "    ('pizza',     'calories'): 820, # changed from 320 to 820\n",
    "    ('pizza',     'protein'):  15,\n",
    "    ('pizza',     'fat'):      82, # changed from 12 to 82\n",
    "    ('pizza',     'sodium'):   820,\n",
    "    ('salad',     'calories'): 320,\n",
    "    ('salad',     'protein'):  31,\n",
    "    ('salad',     'fat'):      12,\n",
    "    ('salad',     'sodium'):   1230,\n",
    "    ('milk',      'calories'): 100,\n",
    "    ('milk',      'protein'):  8,\n",
    "    ('milk',      'fat'):      2.5,\n",
    "    ('milk',      'sodium'):   125,\n",
    "    ('ice cream', 'calories'): 830, # changed from 330 to 830\n",
    "    ('ice cream', 'protein'):  8,\n",
    "    ('ice cream', 'fat'):      100,\n",
    "    ('ice cream', 'sodium'):   180}"
   ]
  },
  {
   "attachments": {},
   "cell_type": "markdown",
   "metadata": {},
   "source": [
    "Before going ahead, try to build a mathematical formulation for the problem above. \n",
    "\n",
    "For this homework , we do not expect you to turn in your mathematical formulation, but none the less, it is always advised to build you mathematical model first then build the model.\n",
    "\n",
    "We use this data below when we define our optimization problem."
   ]
  },
  {
   "cell_type": "code",
   "execution_count": 5,
   "metadata": {},
   "outputs": [],
   "source": [
    "# First, we define a variable that contains the optimization model\n",
    "m = gp.Model(\"diet1\")\n",
    "\n",
    "# Second, we add decision variables to the model that capture for each \n",
    "# food item the quantity bought\n",
    "buy = {}\n",
    "for f in foods:\n",
    "    buy[f] = m.addVar(name=f)\n",
    "\n",
    "# Third, we set our objective: minimizing the cost of the food\n",
    "m.setObjective(sum(buy[f]*cost[f] for f in foods), gp.GRB.MINIMIZE)\n",
    "\n",
    "# Fourth, we set constraints that enforce for each nutrition category\n",
    "# (calories, protein, fat, sodium) that we be in the feasible range\n",
    "for c in categories:\n",
    "    m.addRange(sum(nutritionValues[f, c] * buy[f] for f in foods), \n",
    "               # this sum captures the amount of each nutrient\n",
    "               minNutrition[c], # this is the lower bound (from the data)\n",
    "               maxNutrition[c], # this is the upper bound (from the data)\n",
    "               c) # this is the name for the constraint \n",
    "        # a name is not required but it is a good habit to \n",
    "        # give each variable/constraint a unique name\n",
    "# We could have written the constraints also by writing\n",
    "# m.addConstr(sum(nutritionValues[f, c] * buy[f] for f in foods) >= minNutrition[c])\n",
    "# and\n",
    "# m.addConstr(sum(nutritionValues[f, c] * buy[f] for f in foods) <= maxNutrition[c])\n",
    "\n"
   ]
  },
  {
   "attachments": {},
   "cell_type": "markdown",
   "metadata": {},
   "source": [
    "That's it. Probably that was not that hard, right? \n",
    "\n",
    "Now we can tell Gurobi to find us an optimal solution. When Gurobi solves, it gives us a lot of information that we may not care about (at least, not right now). \n",
    "\n",
    "So before solving, we define a function that ends up printing the interesting bits of the optimal solution for us."
   ]
  },
  {
   "cell_type": "code",
   "execution_count": 6,
   "metadata": {},
   "outputs": [],
   "source": [
    "def printSolution(m):\n",
    "    if m.status == gp.GRB.OPTIMAL: # to check whether an optimal solution was found\n",
    "        buyx = m.getAttr('x', buy)\n",
    "        print('Cost: %g' %(sum(cost[f] * buyx[f] for f in foods)))\n",
    "        print('\\nNutrients:')\n",
    "        for c in categories:\n",
    "            print('%s %g'%(c, sum(buyx[f]*nutritionValues[f,c] for f in foods)))\n",
    "        print('\\nBuy:')\n",
    "        for f in foods:\n",
    "            if buy[f].x > 0.0001:\n",
    "                print('%s %g' % (f, buyx[f]))\n",
    "        \n",
    "    else:\n",
    "        print('No solution')"
   ]
  },
  {
   "cell_type": "code",
   "execution_count": 7,
   "metadata": {},
   "outputs": [
    {
     "name": "stdout",
     "output_type": "stream",
     "text": [
      "Gurobi Optimizer version 10.0.1 build v10.0.1rc0 (win64)\n",
      "\n",
      "CPU model: 11th Gen Intel(R) Core(TM) i5-11300H @ 3.10GHz, instruction set [SSE2|AVX|AVX2|AVX512]\n",
      "Thread count: 4 physical cores, 8 logical processors, using up to 8 threads\n",
      "\n",
      "Optimize a model with 4 rows, 12 columns and 39 nonzeros\n",
      "Model fingerprint: 0xd46ae985\n",
      "Coefficient statistics:\n",
      "  Matrix range     [1e+00, 2e+03]\n",
      "  Objective range  [9e-01, 3e+00]\n",
      "  Bounds range     [5e+01, 2e+03]\n",
      "  RHS range        [7e+01, 2e+03]\n",
      "Presolve time: 0.01s\n",
      "Presolved: 4 rows, 12 columns, 39 nonzeros\n",
      "\n",
      "Iteration    Objective       Primal Inf.    Dual Inf.      Time\n",
      "       0    0.0000000e+00   1.400625e+02   0.000000e+00      0s\n",
      "       4    9.8345398e+00   0.000000e+00   0.000000e+00      0s\n",
      "\n",
      "Solved in 4 iterations and 0.01 seconds (0.00 work units)\n",
      "Optimal objective  9.834539768e+00\n"
     ]
    }
   ],
   "source": [
    "# Now we solve, and get a bunch of info we don't necessarily understand\n",
    "# If we want to stop gurobi from printing that info wee can add \n",
    "# m.setParam( 'OutputFlag', False ) to the code to stop Gurobi from printing\n",
    "m.optimize()"
   ]
  },
  {
   "cell_type": "code",
   "execution_count": 8,
   "metadata": {},
   "outputs": [
    {
     "name": "stdout",
     "output_type": "stream",
     "text": [
      "Cost: 9.83454\n",
      "\n",
      "Nutrients:\n",
      "calories 1500\n",
      "protein 91\n",
      "fat 40.2432\n",
      "sodium 1779\n",
      "\n",
      "Buy:\n",
      "hamburger 0.614868\n",
      "salad 0.186215\n",
      "milk 8.80881\n"
     ]
    }
   ],
   "source": [
    "# Now we print the interesting aspects of our solution:\n",
    "printSolution(m)"
   ]
  },
  {
   "attachments": {},
   "cell_type": "markdown",
   "metadata": {},
   "source": [
    "I hope everything above has made sense.  \n",
    "\n",
    "#### A) [10 Marks]\n",
    "Below, we will try to set up a slightly different optimization problem. Now, rather than aiming to minimize cost, we try to build muscle, i.e., we need to maximize our protein intake. \n",
    "\n",
    "The cell below has most of the protein maximization model written out (same as above), with \"only the objective missing\". Add the new objective to the optimization problem and have gurobi solve it."
   ]
  },
  {
   "cell_type": "code",
   "execution_count": 9,
   "metadata": {},
   "outputs": [
    {
     "name": "stdout",
     "output_type": "stream",
     "text": [
      "Gurobi Optimizer version 10.0.1 build v10.0.1rc0 (win64)\n",
      "\n",
      "CPU model: 11th Gen Intel(R) Core(TM) i5-11300H @ 3.10GHz, instruction set [SSE2|AVX|AVX2|AVX512]\n",
      "Thread count: 4 physical cores, 8 logical processors, using up to 8 threads\n",
      "\n",
      "Optimize a model with 4 rows, 12 columns and 39 nonzeros\n",
      "Model fingerprint: 0xbd16aaa3\n",
      "Coefficient statistics:\n",
      "  Matrix range     [1e+00, 2e+03]\n",
      "  Objective range  [4e+00, 3e+01]\n",
      "  Bounds range     [5e+01, 2e+03]\n",
      "  RHS range        [7e+01, 2e+03]\n",
      "Presolve time: 0.01s\n",
      "Presolved: 4 rows, 12 columns, 39 nonzeros\n",
      "\n",
      "Iteration    Objective       Primal Inf.    Dual Inf.      Time\n",
      "       0    4.3906250e+30   1.139844e+31   4.390625e+00      0s\n",
      "       2    1.1346192e+02   0.000000e+00   0.000000e+00      0s\n",
      "\n",
      "Solved in 2 iterations and 0.01 seconds (0.00 work units)\n",
      "Optimal objective  1.134619242e+02\n",
      "Cost: 12.701\n",
      "\n",
      "Nutrients:\n",
      "calories 1500\n",
      "protein 113.462\n",
      "fat 46.3723\n",
      "sodium 1779\n",
      "\n",
      "Buy:\n",
      "milk 14.0708\n",
      "ice cream 0.111953\n"
     ]
    }
   ],
   "source": [
    "# First, we define a variable that contains the optimization model\n",
    "m = gp.Model(\"diet2\")\n",
    "\n",
    "# Second, we add decision variables to the model that capture for each \n",
    "# food item the quantity bought\n",
    "buy = {}\n",
    "for f in foods:\n",
    "    buy[f] = m.addVar(name=f)\n",
    "\n",
    "# Third, we set our objective: maximizing the amount of protein in our diet.\n",
    "# This is almost the same as before, except for                                                                 [Delete this for Question File]\n",
    "# and rather than MINIMIZE we write MAXIMIZE (or we add a minus before the sum)                                 [Delete this for Question File]\n",
    "\n",
    "\n",
    "### Enter the objective function below ###\n",
    "m.setObjective(sum(buy[f]*nutritionValues[f, 'protein'] for f in foods), gp.GRB.MAXIMIZE)   #Delete for Q                 #[Delete this for Question File]\n",
    "\n",
    "\n",
    "# could also be: m.setObjective(- sum(buy[f]*nutritionValues[f, 'protein'] for f in foods), gp.GRB.MINIMIZE)    [Delete this for Question File]\n",
    "\n",
    "# Fourth, we set constraints that enforce for each nutrition category \n",
    "# (calories, protein, fat, sodium) that we be in the feasible range\n",
    "for c in categories: # \n",
    "    m.addRange(sum(nutritionValues[f, c] * buy[f] for f in foods), # again: amount of each nutrient\n",
    "               minNutrition[c], # again: lower bound (from the data)\n",
    "               maxNutrition[c], # again: upper bound (from the data)\n",
    "               c) # name for constraint\n",
    "m.optimize()\n",
    "printSolution(m)"
   ]
  },
  {
   "attachments": {},
   "cell_type": "markdown",
   "metadata": {},
   "source": [
    "#### B) [10 Marks]\n",
    "Similar to part (A), we still want to maximize our protein intake. However, we now have an added budget constraint: our cost can be at most 12.5. Write out and solve this new optimization problem (you should be able to copy-paste the cell from question A, and add just one line with the new budget constraint)."
   ]
  },
  {
   "cell_type": "code",
   "execution_count": 10,
   "metadata": {},
   "outputs": [
    {
     "name": "stdout",
     "output_type": "stream",
     "text": [
      "Gurobi Optimizer version 10.0.1 build v10.0.1rc0 (win64)\n",
      "\n",
      "CPU model: 11th Gen Intel(R) Core(TM) i5-11300H @ 3.10GHz, instruction set [SSE2|AVX|AVX2|AVX512]\n",
      "Thread count: 4 physical cores, 8 logical processors, using up to 8 threads\n",
      "\n",
      "Optimize a model with 5 rows, 12 columns and 48 nonzeros\n",
      "Model fingerprint: 0x1037e8d9\n",
      "Coefficient statistics:\n",
      "  Matrix range     [9e-01, 2e+03]\n",
      "  Objective range  [4e+00, 3e+01]\n",
      "  Bounds range     [5e+01, 2e+03]\n",
      "  RHS range        [1e+01, 2e+03]\n",
      "Presolve time: 0.01s\n",
      "Presolved: 5 rows, 12 columns, 48 nonzeros\n",
      "\n",
      "Iteration    Objective       Primal Inf.    Dual Inf.      Time\n",
      "       0    4.3906250e+30   1.613344e+31   4.390625e+00      0s\n",
      "       3    1.1197966e+02   0.000000e+00   0.000000e+00      0s\n",
      "\n",
      "Solved in 3 iterations and 0.01 seconds (0.00 work units)\n",
      "Optimal objective  1.119796555e+02\n",
      "Cost: 12.5\n",
      "\n",
      "Nutrients:\n",
      "calories 1500\n",
      "protein 111.98\n",
      "fat 43.9489\n",
      "sodium 1779\n",
      "\n",
      "Buy:\n",
      "hamburger 0.0704258\n",
      "milk 13.7077\n",
      "ice cream 0.0784857\n"
     ]
    }
   ],
   "source": [
    "# First, we define a variable that contains the optimization model\n",
    "m = gp.Model(\"diet3\")\n",
    "\n",
    "# Second, we add decision variables to the model that capture for each \n",
    "# food item the quantity bought\n",
    "buy = {}\n",
    "for f in foods:\n",
    "    buy[f] = m.addVar(name=f)\n",
    "\n",
    "# Third, we set our objective as in part A: maximizing the amount of protein in our diet.\n",
    "m.setObjective(sum(buy[f]*nutritionValues[f, 'protein'] for f in foods), gp.GRB.MAXIMIZE)                   # [Delete this for Question File]\n",
    "\n",
    "\n",
    "# Fourth, we set constraints that enforce for each nutrition category\n",
    "# (calories, protein, fat, sodium) that we be in the feasible range\n",
    "for c in categories: # \n",
    "    m.addRange(sum(nutritionValues[f, c] * buy[f] for f in foods), # again: amount of each nutrient\n",
    "               minNutrition[c], # this is the lower bound (from the data)\n",
    "               maxNutrition[c], # this is the upper bound (from the data)\n",
    "               c) # this is the name for the constraint\n",
    "\n",
    "#Alternate formulation of the constraints\n",
    "'''                                                                                                         Delete this for Question File\n",
    "for c in categories: #\n",
    "    LHS = 0\n",
    "    for f in foods:\n",
    "        LHS += nutritionValues[f, c] * buy[f]\n",
    "    m.addRange(LHS, # again: amount of each nutrient\n",
    "               minNutrition[c], # again: lower bound (from the data)\n",
    "               maxNutrition[c], # again: upper bound (from the data)\n",
    "               c) # name for constraint\n",
    "'''\n",
    "\n",
    "# Finally, you need to add a constraint that bounds the cost of items bought by 12.5\n",
    "# To do so, we define the cost as it was in the original objective: [Delete this for Question File]         [Delete this for Question File]\n",
    "# sum(buy[f]*cost[f] for f in foods) and use the constraint syntax m.addConstr(\"INSERT COST\" <= 12.5)       [Delete this for Question File]\n",
    "\n",
    "### Enter the objective function below ###\n",
    "m.addConstr(sum(buy[f]*cost[f] for f in foods) <= 12.5)                                                     #[Delete this for Question File]\n",
    "    \n",
    "m.optimize()\n",
    "printSolution(m)"
   ]
  },
  {
   "attachments": {},
   "cell_type": "markdown",
   "metadata": {},
   "source": [
    "#### C) [5 Marks]\n",
    "\n",
    "Explain in words why the protein we get is lower in question B than it was in question A. Can you identify the budget we need to consume the maximum amount of protein? (either implement this, or just explain how you would do it)"
   ]
  },
  {
   "attachments": {},
   "cell_type": "markdown",
   "metadata": {},
   "source": [
    "Answer C):\n",
    "\n",
    "Enter your answer here : \n",
    "\n",
    "[Delete for question file]\n",
    "In question B we maximized our protein subject to not spending more than 12.5, and got to 111.98. In question A, we got to 113.46 without the cost constraint. This is because the cost constraint cuts all solutions with more than 98.22 protein off from the feasible region.\n",
    "\n",
    "In order to find the budget that allows us to consume the maximum amount of protein, we can solve an optimization problem that has as a constraint that protein is as high as possible (i.e., at 113.46) but aims to minimize the budget subject to that. Implemented below, this shows us that the cost from A, 12.701 was optimal subject to the constraint that the protein intake is maximized) (notice: the cost now is slightly lower, because we constrained the protein to be >=113.46, whereas in A it is 113.465...)."
   ]
  },
  {
   "cell_type": "code",
   "execution_count": 11,
   "metadata": {},
   "outputs": [
    {
     "name": "stdout",
     "output_type": "stream",
     "text": [
      "Gurobi Optimizer version 10.0.1 build v10.0.1rc0 (win64)\n",
      "\n",
      "CPU model: 11th Gen Intel(R) Core(TM) i5-11300H @ 3.10GHz, instruction set [SSE2|AVX|AVX2|AVX512]\n",
      "Thread count: 4 physical cores, 8 logical processors, using up to 8 threads\n",
      "\n",
      "Optimize a model with 5 rows, 12 columns and 48 nonzeros\n",
      "Model fingerprint: 0x4b1a9f95\n",
      "Coefficient statistics:\n",
      "  Matrix range     [1e+00, 2e+03]\n",
      "  Objective range  [9e-01, 3e+00]\n",
      "  Bounds range     [5e+01, 2e+03]\n",
      "  RHS range        [7e+01, 2e+03]\n",
      "Presolve removed 1 rows and 0 columns\n",
      "Presolve time: 0.01s\n",
      "Presolved: 4 rows, 12 columns, 39 nonzeros\n",
      "\n",
      "Iteration    Objective       Primal Inf.    Dual Inf.      Time\n",
      "       0    0.0000000e+00   1.625225e+02   0.000000e+00      0s\n",
      "       4    1.2700745e+01   0.000000e+00   0.000000e+00      0s\n",
      "\n",
      "Solved in 4 iterations and 0.01 seconds (0.00 work units)\n",
      "Optimal objective  1.270074548e+01\n",
      "Cost: 12.7007\n",
      "\n",
      "Nutrients:\n",
      "calories 1500\n",
      "protein 113.46\n",
      "fat 46.3692\n",
      "sodium 1779\n",
      "\n",
      "Buy:\n",
      "milk 14.0703\n",
      "ice cream 0.11191\n"
     ]
    }
   ],
   "source": [
    "                                                                 #[Delete entire block for Question File]\n",
    "\n",
    "# First, we define a variable that contains the optimization model\n",
    "m = gp.Model(\"diet4\")\n",
    "\n",
    "# Second, we add decision variables to the model that capture for each \n",
    "# food item the quantity bought\n",
    "buy = {}\n",
    "for f in foods:\n",
    "    buy[f] = m.addVar(name=f)\n",
    "\n",
    "# Third, we set our objective: minimize our budget\n",
    "m.setObjective(sum(buy[f]*cost[f] for f in foods), gp.GRB.MINIMIZE)\n",
    "\n",
    "# Fourth, we set constraints that enforce for each nutrition category \n",
    "# (calories, protein, fat, sodium) that we be in the feasible range\n",
    "for c in categories: # \n",
    "    m.addRange(sum(nutritionValues[f, c] * buy[f] for f in foods), # again: amount of each nutrient\n",
    "               minNutrition[c], # again: lower bound (from the data)\n",
    "               maxNutrition[c], # again: upper bound (from the data)\n",
    "               c) # name for constraint\n",
    "    \n",
    "'''\n",
    "Alternate formulation of constraints\n",
    "\n",
    "# Fourth, we set constraints that enforce for each nutrition category \n",
    "# (calories, protein, fat, sodium) that we be in the feasible range\n",
    "for c in categories: # \n",
    "    LHS = 0\n",
    "    for f in foods:\n",
    "        LHS += nutritionValues[f, c] * buy[f]\n",
    "    m.addRange(LHS, # again: amount of each nutrient\n",
    "               minNutrition[c], # again: lower bound (from the data)\n",
    "               maxNutrition[c], # again: upper bound (from the data)\n",
    "               c) # name for constraint\n",
    "\n",
    "\n",
    "'''\n",
    "\n",
    "# Fifth, we force protein to be at the maximum:\n",
    "m.addConstr(sum(buy[f]*nutritionValues[f, 'protein'] for f in foods) >= 113.46)\n",
    "m.optimize()\n",
    "printSolution(m)"
   ]
  },
  {
   "attachments": {},
   "cell_type": "markdown",
   "metadata": {},
   "source": [
    "#### Problem 3 [25 Marks]\n",
    "\n",
    "In this question we need to decide on a production schedule for a factory. The factory is tasked with producing 3 different goods, and it has 3 different machines; each machine can be tasked to work on any of the goods, but machines are faster at producing some goods than they are at others. Our goal is to minimize the time until all our orders are fulfilled.\n",
    "\n",
    "In the cell below we provide you with the data for the problem:"
   ]
  },
  {
   "cell_type": "code",
   "execution_count": 12,
   "metadata": {},
   "outputs": [],
   "source": [
    "# we have products 'p1', 'p2', 'p3', and we need to\n",
    "# produce (respectively) 100, 200, 400 units of each\n",
    "product_demand = {'p1': 200, 'p2': 100, 'p3': 350}\n",
    "machines = ['m1', 'm2', 'm3']\n",
    "# we have three machines, 'm1', 'm2', and 'm3' and\n",
    "# the number of products of each type that can be produced\n",
    "# by each of the machines is given in the dictionary below\n",
    "machine_speed = {('m1','p1'):2, ('m1','p2'):1, ('m1','p3'):3,\n",
    "                 ('m2','p1'):2, ('m2','p2'):2, ('m2','p3'):4.5,\n",
    "                 ('m3','p1'):2, ('m3','p2'):3, ('m3','p3'):4}\n",
    "# e.g., machine 'm1' can produce 2 units of type 'p1' but only\n",
    "# 1 unit of type 'p2' per hour"
   ]
  },
  {
   "attachments": {},
   "cell_type": "markdown",
   "metadata": {},
   "source": [
    "Hint: In setting up your optimization problem it will be useful to define 10 different variables: 9 for each pair of machine and product (\"how many hours does machine i spend on product j?\"), and 1 for the objective (\"what is the maximum time any of the machines is working?\"), which we refer to as makespan."
   ]
  },
  {
   "cell_type": "code",
   "execution_count": 13,
   "metadata": {},
   "outputs": [
    {
     "name": "stdout",
     "output_type": "stream",
     "text": [
      "Gurobi Optimizer version 10.0.1 build v10.0.1rc0 (win64)\n",
      "\n",
      "CPU model: 11th Gen Intel(R) Core(TM) i5-11300H @ 3.10GHz, instruction set [SSE2|AVX|AVX2|AVX512]\n",
      "Thread count: 4 physical cores, 8 logical processors, using up to 8 threads\n",
      "\n",
      "Optimize a model with 6 rows, 10 columns and 21 nonzeros\n",
      "Model fingerprint: 0x6662e9b1\n",
      "Coefficient statistics:\n",
      "  Matrix range     [1e+00, 5e+00]\n",
      "  Objective range  [1e+00, 1e+00]\n",
      "  Bounds range     [0e+00, 0e+00]\n",
      "  RHS range        [1e+02, 4e+02]\n",
      "Presolve removed 1 rows and 1 columns\n",
      "Presolve time: 0.01s\n",
      "Presolved: 5 rows, 9 columns, 21 nonzeros\n",
      "\n",
      "Iteration    Objective       Primal Inf.    Dual Inf.      Time\n",
      "       0    0.0000000e+00   1.687500e+02   0.000000e+00      0s\n",
      "       4    7.0666667e+01   0.000000e+00   0.000000e+00      0s\n",
      "\n",
      "Solved in 4 iterations and 0.01 seconds (0.00 work units)\n",
      "Optimal objective  7.066666667e+01\n",
      "The optimal schedule is:\n",
      "Machine m1 works on product p1 for 70.6667 hours, producing 141.333 units\n",
      "Machine m2 works on product p3 for 70.6667 hours, producing 318 units\n",
      "Machine m3 works on product p1 for 29.3333 hours, producing 58.6667 units\n",
      "Machine m3 works on product p2 for 33.3333 hours, producing 100 units\n",
      "Machine m3 works on product p3 for 8 hours, producing 32 units\n"
     ]
    }
   ],
   "source": [
    "m = gp.Model(\"production_schedule\")\n",
    "\n",
    "time_spent = {}\n",
    "# First add a decision variable capturing the time each machine spends on each product\n",
    "for machine,p in machine_speed:\n",
    "    time_spent[(machine,p)] =  m.addVar(lb= 0, name = machine+p)                                        #Delete the RHS for Question File]\n",
    "\n",
    "# Next, add constraints to ensure we spend enough time (by respective machines) on \n",
    "# each product so that enough units of each products are completed\n",
    "for p in product_demand:\n",
    "     m.addConstr(sum(time_spent[machine,p]*machine_speed[machine,p] for machine in ['m1','m2','m3'])    #Delete this for Question File]\n",
    "                   >= product_demand[p])                                                                #Delete this RHS for Question File]\n",
    "     \n",
    "'''                                                                                                     [Delete this for Question File]\n",
    "Alternate formulation of constraints\n",
    "# Next, add constraints to ensure we spend enough time (by respective machines) on \n",
    "# each product so that enough units of each products are completed\n",
    "for p in product_demand:\n",
    "    LHS = 0\n",
    "    for machine in ['m1','m2','m3']:\n",
    "        LHS+= time_spent[machine,p]*machine_speed[machine,p]\n",
    "    m.addConstr( LHS >= product_demand[p])\n",
    "\n",
    "'''\n",
    "    \n",
    "makespan = m.addVar(lb=0)   # makespan will be the objective, the maximum time any\n",
    "                            # machine works in total. Notice that lb is the lower bound\n",
    "                            # on a variable, so we do not allow the makespan to be negative\n",
    "\n",
    "# Add a constraint that the makespan variable is no less than the time each \n",
    "# machine spends individually\n",
    "for machine in ['m1', 'm2', 'm3']:\n",
    "     m.addConstr(sum(time_spent[machine,p] for p in product_demand)<= makespan)                         #Delete the RHS for Question File]\n",
    "\n",
    "'''                                                                                                     [Delete this for Question File]\n",
    "Alternate formulation of constraints\n",
    "# Add a constraint that the makespan variable is no less than the time each \n",
    "# machine spends individually\n",
    "for machine in ['m1', 'm2', 'm3']:\n",
    "    LHS=0\n",
    "    for p in product_demand:\n",
    "        LHS += time_spent[machine,p]\n",
    "    m.addConstr( LHS <= makespan)\n",
    "\n",
    "'''\n",
    "\n",
    "# Finally, set the objective to be the minimization of the makespan. \n",
    "m.setObjective(makespan, gp.GRB.MINIMIZE)                                                               #Delete the RHS for Question File]\n",
    "\n",
    "# Since we have only constrained the makespan to be bounded below by the time spent by any \n",
    "# of 'm1', 'm2', 'm3' (and nothing else), and since the objective should minimize the \n",
    "# makespan, the optimal  solution will have the makespan be equal to the maximum of \n",
    "# time spent by any of the machines. Specifically, there is no reason (constraint) \n",
    "# forcing the makespan variable to be any larger than the maximum total time spent, \n",
    "# and the minimization objective is \"pushing\" it down until one of the inequalities \n",
    "# holds with equality.\n",
    "\n",
    "\n",
    "m.optimize()\n",
    "\n",
    "print(\"The optimal schedule is:\")\n",
    "for x in time_spent:\n",
    "    if time_spent[x].x>0:\n",
    "        print(\"\"\"Machine %s works on product %s for %g hours, producing %g units\"\"\"%(x[0], \n",
    "                                            x[1], time_spent[x].x, \n",
    "                                            machine_speed[x]*time_spent[x].x))"
   ]
  },
  {
   "cell_type": "markdown",
   "metadata": {},
   "source": [
    "## Optional Problem for Extra Credits . Partial Credits can also be got for effort to solve :-)"
   ]
  },
  {
   "attachments": {},
   "cell_type": "markdown",
   "metadata": {},
   "source": [
    "#### Problem 4 (10 Marks)\n",
    "\n",
    "In this problem we try to find the optimal schedule of workers to different shifts in a store. Suppose our store is open 24/7, and the number of workers needed to staff the store is given below."
   ]
  },
  {
   "cell_type": "code",
   "execution_count": 14,
   "metadata": {},
   "outputs": [],
   "source": [
    "staff_required = {0: 12, 1: 8, 2: 9, 3: 8, 4: 8, 5: 9, \n",
    "                  6: 10, 7: 12, 8: 12, 9: 12, 10: 10, \n",
    "                  11: 10, 12: 12, 13: 12, 14: 10, 15: 10,\n",
    "                  16: 9, 17: 10, 18: 12, 19: 12, 20: 12,\n",
    "                  21: 10, 22: 9, 23: 8}"
   ]
  },
  {
   "attachments": {},
   "cell_type": "markdown",
   "metadata": {},
   "source": [
    "A worker scheduled to show up at a given time, stays for 4h. Find the number of workers to show up at each hour of the day that minimizes the total number of workers that need are needed over the course of the day while fulfilling the staff needs above.\n",
    "\n",
    "Hint: the python function \\% may be useful in coding up the constraints!"
   ]
  },
  {
   "cell_type": "code",
   "execution_count": 15,
   "metadata": {},
   "outputs": [
    {
     "name": "stdout",
     "output_type": "stream",
     "text": [
      "Gurobi Optimizer version 10.0.1 build v10.0.1rc0 (win64)\n",
      "\n",
      "CPU model: 11th Gen Intel(R) Core(TM) i5-11300H @ 3.10GHz, instruction set [SSE2|AVX|AVX2|AVX512]\n",
      "Thread count: 4 physical cores, 8 logical processors, using up to 8 threads\n",
      "\n",
      "Optimize a model with 24 rows, 24 columns and 96 nonzeros\n",
      "Model fingerprint: 0x167d8c41\n",
      "Coefficient statistics:\n",
      "  Matrix range     [1e+00, 1e+00]\n",
      "  Objective range  [1e+00, 1e+00]\n",
      "  Bounds range     [0e+00, 0e+00]\n",
      "  RHS range        [8e+00, 1e+01]\n",
      "Presolve time: 0.01s\n",
      "Presolved: 24 rows, 24 columns, 96 nonzeros\n",
      "\n",
      "Iteration    Objective       Primal Inf.    Dual Inf.      Time\n",
      "       0    0.0000000e+00   2.460000e+02   0.000000e+00      0s\n",
      "      20    6.5000000e+01   0.000000e+00   0.000000e+00      0s\n",
      "\n",
      "Solved in 20 iterations and 0.02 seconds (0.00 work units)\n",
      "Optimal objective  6.500000000e+01\n"
     ]
    },
    {
     "data": {
      "text/plain": [
       "'\\'                                                                                                             [Delete this for Question File]\\nAlternate formulation \\n\\n# First, we define a variable that contains the optimization model\\nm = gp.Model(\"store_shifts\")\\n\\n# Second, let\\'s create one variable for each hour in which a shift can start\\nstarts = {}\\nfor k in range(24):\\n    starts[k] = m.addVar(lb=0, ub=gp.GRB.INFINITY, name=str(k)) \\n\\n# Third, define the objective: the total number of workers needed\\nobjective = 0\\nfor k in range(24):\\n    objective+=starts[k]\\nm.setObjective(objective, gp.GRB.MINIMIZE)\\n    \\n# Fourth, add a constraint for each hour that ensures that sufficiently\\n# many workers are scheduled to work at that hour.\\n# Notice that the number of workers working at hour k are the ones scheduled to start\\n# at k-3, k-2, k-1 and k (where k-3, k-2, k-1 should be treated with mod 24 (in python: %24) to ensure \\n# that, say, -2 counts as 22, i.e., 10PM)\\nfor k in range(24):\\n    m.addConstr(starts[(k-3)%24]+starts[(k-2)%24]+starts[(k-1)%24]+starts[k]>=staff_required[k])\\n\\nm.optimize()\\n'"
      ]
     },
     "execution_count": 15,
     "metadata": {},
     "output_type": "execute_result"
    }
   ],
   "source": [
    "# First, we define a variable that contains the optimization model\n",
    "m = gp.Model(\"store_shifts\")\n",
    "\n",
    "# Second, let's create one variable for each hour in which a shift can start\n",
    "starts = {}\n",
    "for k in range(24):\n",
    "    starts[k] = m.addVar(lb=0, ub=gp.GRB.INFINITY, name=str(k))                                                 #[Delete this for Question File]\n",
    "\n",
    "# Third, define the objective: the total number of workers needed\n",
    "#m.setObjective(sum([starts[k] for k in range(24)]), gp.GRB.MINIMIZE)    \n",
    "m.setObjective(sum(starts), gp.GRB.MINIMIZE)                                            #[Delete this for Question File]\n",
    "    \n",
    "# Fourth, add a constraint for each hour that ensures that sufficiently\n",
    "# many workers are scheduled to work at that hour.\n",
    "# Notice that the number of workers working at hour k are the ones scheduled to start                           #[Delete this for Question File]\n",
    "# at k-3, k-2, k-1 and k (where k-3, k-2, k-1 should be treated with mod 24 (in python: %24) to ensure          #[Delete this for Question File]\n",
    "# that, say, -2 counts as 22, i.e., 10PM) #[Delete this for Question File]                                      #[Delete this for Question File]\n",
    "\n",
    "for k in range(24): \n",
    "    m.addConstr( (starts[(k-3)%24] + starts[(k-2)%24] + starts[(k-1)%24] + starts[k] ) >= staff_required[k])    #[Delete this for Question File]\n",
    "\n",
    "m.optimize()\n",
    "\n",
    "''''                                                                                                             [Delete this for Question File]\n",
    "Alternate formulation \n",
    "\n",
    "# First, we define a variable that contains the optimization model\n",
    "m = gp.Model(\"store_shifts\")\n",
    "\n",
    "# Second, let's create one variable for each hour in which a shift can start\n",
    "starts = {}\n",
    "for k in range(24):\n",
    "    starts[k] = m.addVar(lb=0, ub=gp.GRB.INFINITY, name=str(k)) \n",
    "\n",
    "# Third, define the objective: the total number of workers needed\n",
    "objective = 0\n",
    "for k in range(24):\n",
    "    objective+=starts[k]\n",
    "m.setObjective(objective, gp.GRB.MINIMIZE)\n",
    "    \n",
    "# Fourth, add a constraint for each hour that ensures that sufficiently\n",
    "# many workers are scheduled to work at that hour.\n",
    "# Notice that the number of workers working at hour k are the ones scheduled to start\n",
    "# at k-3, k-2, k-1 and k (where k-3, k-2, k-1 should be treated with mod 24 (in python: %24) to ensure \n",
    "# that, say, -2 counts as 22, i.e., 10PM)\n",
    "for k in range(24):\n",
    "    m.addConstr(starts[(k-3)%24]+starts[(k-2)%24]+starts[(k-1)%24]+starts[k]>=staff_required[k])\n",
    "\n",
    "m.optimize()\n",
    "'''\n",
    "\n",
    "\n"
   ]
  },
  {
   "cell_type": "code",
   "execution_count": 16,
   "metadata": {},
   "outputs": [
    {
     "name": "stdout",
     "output_type": "stream",
     "text": [
      "0 3.0 12\n",
      "1 0.0 8\n",
      "2 6.0 9\n",
      "3 0.0 8\n",
      "4 2.0 8\n",
      "5 5.0 9\n",
      "6 4.0 10\n",
      "7 3.0 12\n",
      "8 0.0 12\n",
      "9 5.0 12\n",
      "10 2.0 10\n",
      "11 4.0 10\n",
      "12 1.0 12\n",
      "13 5.0 12\n",
      "14 0.0 10\n",
      "15 4.0 10\n",
      "16 0.0 9\n",
      "17 6.0 10\n",
      "18 6.0 12\n",
      "19 0.0 12\n",
      "20 0.0 12\n",
      "21 4.0 10\n",
      "22 5.0 9\n",
      "23 0.0 8\n"
     ]
    }
   ],
   "source": [
    "for k in range(len(starts)): print(k, starts[k].x, staff_required[k])"
   ]
  },
  {
   "attachments": {},
   "cell_type": "markdown",
   "metadata": {},
   "source": [
    "********************************************************************************************************************************\n",
    "### End of Homework 3"
   ]
  },
  {
   "cell_type": "code",
   "execution_count": 17,
   "metadata": {},
   "outputs": [],
   "source": [
    "m.write(\"entire_model.lp\")"
   ]
  },
  {
   "cell_type": "code",
   "execution_count": null,
   "metadata": {},
   "outputs": [],
   "source": []
  }
 ],
 "metadata": {
  "kernelspec": {
   "display_name": "Python 3 (ipykernel)",
   "language": "python",
   "name": "python3"
  },
  "language_info": {
   "codemirror_mode": {
    "name": "ipython",
    "version": 3
   },
   "file_extension": ".py",
   "mimetype": "text/x-python",
   "name": "python",
   "nbconvert_exporter": "python",
   "pygments_lexer": "ipython3",
   "version": "3.11.0"
  }
 },
 "nbformat": 4,
 "nbformat_minor": 2
}
